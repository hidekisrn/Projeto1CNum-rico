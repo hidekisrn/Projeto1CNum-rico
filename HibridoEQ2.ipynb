{
 "cells": [
  {
   "cell_type": "code",
   "execution_count": 4,
   "metadata": {},
   "outputs": [
    {
     "name": "stdout",
     "output_type": "stream",
     "text": [
      "Iteração: 0  Raíz: -1.0  Erro: 1.8399999999999999\n",
      "Iteração: 1  Raíz: -1.0300433675603586  Erro: 0.030043367560358636\n",
      "Iteração: 2  Raíz: -1.0298665352529512  Erro: 0.00017683230740739297\n",
      "Iteração: 3  Raíz: -1.0298665293222589  Erro: 5.9306923816393464e-09\n",
      "A raiz é -1.029867 com 3 iterações.\n"
     ]
    }
   ],
   "source": [
    "import math\n",
    "a = -2\n",
    "b = 0\n",
    "\n",
    "def metodohibrido(fn, dfn, xk, e, iteracoesmax):\n",
    "    \n",
    "    def f(x):\n",
    "        return x**3 - 2*x**2 + 3*x - 5 \n",
    "\n",
    "    for i in range(iteracoesmax):\n",
    "        fa=f(a)\n",
    "        c = (a+b)/2\n",
    "        fc=f(c)\n",
    "        xknovo = xk - fn(xk)/dfn(xk)\n",
    "        \n",
    "        if xknovo > b or xknovo < a:\n",
    "            xknovo = (a+b)/2\n",
    "            \n",
    "        erro = abs(xknovo - xk)\n",
    "        if erro < e:\n",
    "            print(\"Iteração:\", i, \" Raíz:\", xknovo, \" Erro:\", erro)\n",
    "            break\n",
    "            \n",
    "        if f(c)==0:\n",
    "            xknovo = c\n",
    "            break\n",
    "            \n",
    "        xk = xknovo\n",
    "        print(\"Iteração:\", i, \" Raíz:\", xknovo, \" Erro:\", erro)\n",
    "    return xknovo, i\n",
    "\n",
    "y = lambda x: x + 2*math.cos(x)\n",
    "dy = lambda x: 1 - 2*math.sin(x)\n",
    "\n",
    "x, n = metodohibrido(y, dy, -2.84, 0.000001, 100)\n",
    "print(\"A raiz é %f com %d iterações.\" %(x, n))"
   ]
  }
 ],
 "metadata": {
  "kernelspec": {
   "display_name": "Python 3",
   "language": "python",
   "name": "python3"
  },
  "language_info": {
   "codemirror_mode": {
    "name": "ipython",
    "version": 3
   },
   "file_extension": ".py",
   "mimetype": "text/x-python",
   "name": "python",
   "nbconvert_exporter": "python",
   "pygments_lexer": "ipython3",
   "version": "3.7.6"
  }
 },
 "nbformat": 4,
 "nbformat_minor": 4
}
