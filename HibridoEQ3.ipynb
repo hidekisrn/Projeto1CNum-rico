{
 "cells": [
  {
   "cell_type": "code",
   "execution_count": 2,
   "metadata": {},
   "outputs": [
    {
     "name": "stdout",
     "output_type": "stream",
     "text": [
      "Iteração: 0  Raíz: 0.5  Erro: 5000.5\n",
      "Iteração: 1  Raíz: 0.6162971838252382  Erro: 0.11629718382523824\n",
      "Iteração: 2  Raíz: 0.6154682169443634  Erro: 0.0008289668808748596\n",
      "Iteração: 3  Raíz: 0.6154681694899655  Erro: 4.745439785569516e-08\n",
      "A raiz é 0.615468 com 3 iterações.\n"
     ]
    }
   ],
   "source": [
    "import math\n",
    "a = 0\n",
    "b = 1\n",
    "\n",
    "def metodohibrido(fn, dfn, xk, e, iteracoesmax):\n",
    "    \n",
    "    def f(x):\n",
    "        return x**3 - 2*x**2 + 3*x - 5 \n",
    "\n",
    "    for i in range(iteracoesmax):\n",
    "        fa=f(a)\n",
    "        c = (a+b)/2\n",
    "        fc=f(c)\n",
    "        xknovo = xk - fn(xk)/dfn(xk)\n",
    "        \n",
    "        if xknovo > b or xknovo < a:\n",
    "            xknovo = (a+b)/2\n",
    "            \n",
    "        erro = abs(xknovo - xk)\n",
    "        if erro < e:\n",
    "            print(\"Iteração:\", i, \" Raíz:\", xknovo, \" Erro:\", erro)\n",
    "            break\n",
    "            \n",
    "        if f(c)==0:\n",
    "            xknovo = c\n",
    "            break\n",
    "            \n",
    "        xk = xknovo\n",
    "        print(\"Iteração:\", i, \" Raíz:\", xknovo, \" Erro:\", erro)\n",
    "    return xknovo, i\n",
    "\n",
    "y = lambda x: x - 0.2*math.sin(x) - 0.5\n",
    "dy = lambda x: 1 - 0.2*math.cos(x)\n",
    "\n",
    "x, n = metodohibrido(y, dy, -5000, 0.000001, 100)\n",
    "print(\"A raiz é %f com %d iterações.\" %(x, n))"
   ]
  }
 ],
 "metadata": {
  "kernelspec": {
   "display_name": "Python 3",
   "language": "python",
   "name": "python3"
  },
  "language_info": {
   "codemirror_mode": {
    "name": "ipython",
    "version": 3
   },
   "file_extension": ".py",
   "mimetype": "text/x-python",
   "name": "python",
   "nbconvert_exporter": "python",
   "pygments_lexer": "ipython3",
   "version": "3.7.6"
  }
 },
 "nbformat": 4,
 "nbformat_minor": 4
}
