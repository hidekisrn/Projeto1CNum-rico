{
 "cells": [
  {
   "cell_type": "code",
   "execution_count": 25,
   "metadata": {},
   "outputs": [
    {
     "name": "stdout",
     "output_type": "stream",
     "text": [
      "Iteração: 0  Raíz: -0.4526702577914582  Erro: 0.9426702577914582\n",
      "Iteração: 1  Raíz: 0.31433440781249655  Erro: 0.7670046656039547\n",
      "Iteração: 2  Raíz: -0.0774143493737276  Erro: 0.39174875718622415\n",
      "Iteração: 3  Raíz: 0.0009391420473635892  Erro: 0.07835349142109119\n",
      "Iteração: 4  Raíz: -1.6566265507826639e-09  Erro: 0.00093914370399014\n",
      "Iteração: 5  Raíz: 0.0  Erro: 1.6566265507826639e-09\n",
      "A raiz é 0.000000 com 6 iterações.\n"
     ]
    }
   ],
   "source": [
    "import math \n",
    "\n",
    "def newtonraphson(fn, dfn, xk, e, iteracoesmax):\n",
    "    for i in range(iteracoesmax):\n",
    "        xknovo = xk - fn(xk)/dfn(xk)\n",
    "        erro = abs(xknovo - xk)\n",
    "        if erro < e:\n",
    "            print(\"Iteração:\", i, \" Raíz:\", xknovo, \" Erro:\", erro)\n",
    "            break\n",
    "        xk = xknovo\n",
    "        print(\"Iteração:\", i, \" Raíz:\", xknovo, \" Erro:\", erro)\n",
    "    return xknovo, i\n",
    "\n",
    "y = lambda x: x*2.718281**-x**2\n",
    "dy = lambda x: 2.718281**(-x**2)*(1 - 2*x**2)\n",
    "\n",
    "x, n = newtonraphson(y, dy, 0.49, 0.000001, 700)\n",
    "print(\"A raiz é %f com %d iterações.\" %(x, n+1))"
   ]
  }
 ],
 "metadata": {
  "kernelspec": {
   "display_name": "Python 3",
   "language": "python",
   "name": "python3"
  },
  "language_info": {
   "codemirror_mode": {
    "name": "ipython",
    "version": 3
   },
   "file_extension": ".py",
   "mimetype": "text/x-python",
   "name": "python",
   "nbconvert_exporter": "python",
   "pygments_lexer": "ipython3",
   "version": "3.7.6"
  }
 },
 "nbformat": 4,
 "nbformat_minor": 4
}
