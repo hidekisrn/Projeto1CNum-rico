{
 "cells": [
  {
   "cell_type": "code",
   "execution_count": 3,
   "metadata": {},
   "outputs": [
    {
     "name": "stdout",
     "output_type": "stream",
     "text": [
      "Iteração: 1  Raíz: -1.0  Erro: 0.08060461173627953\n",
      "Iteração: 2  Raíz: -1.5  Erro: 1.3585255966645942\n",
      "Iteração: 3  Raíz: -1.25  Erro: 0.6193552752094627\n",
      "Iteração: 4  Raíz: -1.125  Erro: 0.2626469664026676\n",
      "Iteração: 5  Raíz: -1.0625  Erro: 0.08912066459607337\n",
      "Iteração: 6  Raíz: -1.03125  Erro: 0.0037563613792639394\n",
      "Iteração: 7  Raíz: -1.015625  Erro: 0.03855280637470493\n",
      "Iteração: 8  Raíz: -1.0234375  Erro: 0.017429987091011956\n",
      "Iteração: 9  Raíz: -1.02734375  Erro: 0.006844703077569125\n",
      "Iteração: 10  Raíz: -1.029296875  Erro: 0.0015461370255371865\n",
      "Iteração: 11  Raíz: -1.0302734375  Erro: 0.0011046214309688995\n",
      "Iteração: 12  Raíz: -1.02978515625  Erro: 0.0002208805835695049\n",
      "Iteração: 13  Raíz: -1.030029296875  Erro: 0.0004418397396024343\n",
      "Iteração: 14  Raíz: -1.0299072265625  Erro: 0.00011047190543278518\n",
      "Iteração: 15  Raíz: -1.02984619140625  Erro: 5.5206257409290416e-05\n",
      "Iteração: 16  Raíz: -1.029876708984375  Erro: 2.7632344450800872e-05\n",
      "Iteração: 17  Raíz: -1.0298614501953125  Erro: 1.3787076372562268e-05\n",
      "Iteração: 18  Raíz: -1.0298690795898438  Erro: 6.9226040662062616e-06\n",
      "Iteração: 19  Raíz: -1.0298652648925781  Erro: 3.4322436464062633e-06\n",
      "Iteração: 20  Raíz: -1.029867172241211  Erro: 1.745178336731712e-06\n",
      "Iteração: 21  Raíz: -1.0298662185668945  Erro: 8.435331231293475e-07\n"
     ]
    }
   ],
   "source": [
    "import math\n",
    "\n",
    "def f(x):\n",
    "    return x + 2*math.cos(x)\n",
    "\n",
    "#[a,b] e erro\n",
    "a = -2\n",
    "b = 0\n",
    "erro = 1\n",
    "i = 0\n",
    "\n",
    "while erro > 1e-6:\n",
    "    c = (a+b)/2\n",
    "    fa = f(a) \n",
    "    fc = f(c)\n",
    "    if f(c) == 0:\n",
    "        raiz = c\n",
    "        break\n",
    "    elif fa*fc < 0:\n",
    "        b = c\n",
    "    else:\n",
    "        a = c\n",
    "    raiz = c\n",
    "    i += 1\n",
    "    erro = abs(fc)\n",
    "    print(\"Iteração:\", i,\" Raíz:\", raiz,\" Erro:\", erro)\n",
    "\n",
    "print(\"Raíz obtida:\", raiz,\"com \", i,\"iterações\")    "
   ]
  }
 ],
 "metadata": {
  "kernelspec": {
   "display_name": "Python 3",
   "language": "python",
   "name": "python3"
  },
  "language_info": {
   "codemirror_mode": {
    "name": "ipython",
    "version": 3
   },
   "file_extension": ".py",
   "mimetype": "text/x-python",
   "name": "python",
   "nbconvert_exporter": "python",
   "pygments_lexer": "ipython3",
   "version": "3.7.6"
  }
 },
 "nbformat": 4,
 "nbformat_minor": 4
}
