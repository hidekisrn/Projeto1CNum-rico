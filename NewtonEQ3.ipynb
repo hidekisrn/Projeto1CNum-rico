{
 "cells": [
  {
   "cell_type": "code",
   "execution_count": 13,
   "metadata": {},
   "outputs": [
    {
     "name": "stdout",
     "output_type": "stream",
     "text": [
      "Iteração: 0  Raíz: 160.32545601903257  Erro: 5160.325456019033\n",
      "Iteração: 1  Raíz: 26.99964019443169  Erro: 133.32581582460088\n",
      "Iteração: 2  Raíz: 2.1419637470550335  Erro: 24.857676447376658\n",
      "Iteração: 3  Raíz: 0.8120483979337063  Erro: 1.3299153491213271\n",
      "Iteração: 4  Raíz: 0.6185079169095427  Erro: 0.19354048102416366\n",
      "Iteração: 5  Raíz: 0.6154688086317412  Erro: 0.0030391082778014056\n",
      "Iteração: 6  Raíz: 0.6154681694899936  Erro: 6.391417476381278e-07\n",
      "A raiz é 0.615468 com 6 iterações.\n"
     ]
    }
   ],
   "source": [
    "import math \n",
    "\n",
    "def newtonraphson(fn, dfn, xk, e, iteracoesmax):\n",
    "    for i in range(iteracoesmax):\n",
    "        xknovo = xk - fn(xk)/dfn(xk)\n",
    "        erro = abs(xknovo - xk)\n",
    "        if erro < e:\n",
    "            print(\"Iteração:\", i, \" Raíz:\", xknovo, \" Erro:\", erro)\n",
    "            break\n",
    "        xk = xknovo\n",
    "        print(\"Iteração:\", i, \" Raíz:\", xknovo, \" Erro:\", erro)\n",
    "    return xknovo, i\n",
    "\n",
    "y = lambda x: x - 0.2*math.sin(x) - 0.5\n",
    "dy = lambda x: 1 - 0.2*math.cos(x)\n",
    "\n",
    "x, n = newtonraphson(y, dy, -5000, 0.000001, 100)\n",
    "print(\"A raiz é %f com %d iterações.\" %(x, n))"
   ]
  }
 ],
 "metadata": {
  "kernelspec": {
   "display_name": "Python 3",
   "language": "python",
   "name": "python3"
  },
  "language_info": {
   "codemirror_mode": {
    "name": "ipython",
    "version": 3
   },
   "file_extension": ".py",
   "mimetype": "text/x-python",
   "name": "python",
   "nbconvert_exporter": "python",
   "pygments_lexer": "ipython3",
   "version": "3.7.6"
  }
 },
 "nbformat": 4,
 "nbformat_minor": 4
}
