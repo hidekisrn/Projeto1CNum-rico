{
 "cells": [
  {
   "cell_type": "code",
   "execution_count": 26,
   "metadata": {},
   "outputs": [
    {
     "name": "stdout",
     "output_type": "stream",
     "text": [
      "Iteração: 0  Raíz: 6.863117870722434  Erro: 3.1368821292775664\n",
      "Iteração: 1  Raíz: 4.769459372909388  Erro: 2.0936584978130455\n",
      "Iteração: 2  Raíz: 3.383342514684892  Erro: 1.3861168582244963\n",
      "Iteração: 3  Raíz: 2.501896479335045  Erro: 0.881446035349847\n",
      "Iteração: 4  Raíz: 2.022127147847401  Erro: 0.47976933148764367\n",
      "Iteração: 5  Raíz: 1.8609706994092905  Erro: 0.16115644843811072\n",
      "Iteração: 6  Raíz: 1.8439124456845568  Erro: 0.017058253724733685\n",
      "Iteração: 7  Raíz: 1.843734297145574  Erro: 0.00017814853898290295\n",
      "Iteração: 8  Raíz: 1.8437342778980692  Erro: 1.924750470116976e-08\n",
      "A raiz é 1.843734 com 8 iterações.\n"
     ]
    }
   ],
   "source": [
    "#definimos o método de Newton-Raphson passando como parâmetro a função x, a derivada dela, o x0 inicial\n",
    "# e o número máximo de iterações\n",
    "def newtonraphson(fn, dfn, xk, e, iteracoesmax):\n",
    "    #a iteração é iniciada nesse ponto\n",
    "    for i in range(iteracoesmax):\n",
    "        #xk+1 recebe o valor dado pelo método de newton\n",
    "        xknovo = xk - fn(xk)/dfn(xk)\n",
    "        #o erro relativo é obtido através do valor absoluto (ou módulo) da subtração dos valores xk+1 e xk\n",
    "        erro = abs(xknovo - xk)\n",
    "        #se o erro relativo obtido for menor que o erro relativo definido como método de parada, então o sistema\n",
    "        #para a execução da iteração e retorna os valores de xk+1 e xk até então\n",
    "        if erro < e:\n",
    "            print(\"Iteração:\", i, \" Raíz:\", xknovo, \" Erro:\", erro)\n",
    "            break\n",
    "        #caso o erro relativo obtido não é menor ainda que o erro relativo que procuramos, xk passa a receber xk+1\n",
    "        #e o sistema refaz a iteração\n",
    "        xk = xknovo\n",
    "        print(\"Iteração:\", i, \" Raíz:\", xknovo, \" Erro:\", erro)\n",
    "    return xknovo, i\n",
    "\n",
    "#definimos a equação nesse ponto, decidi usar y para melhor visualização mas poderia ser qualquer outra variável\n",
    "y = lambda x: x**3 - 2*x**2 + 3*x - 5\n",
    "dy = lambda x: 3*x**2 - 4*x + 3\n",
    "\n",
    "x, n = newtonraphson(y, dy, 10, 0.000001, 100)\n",
    "#após a chamada da função, o programa retorna o valor da raiz, bem como o seu número de iterações\n",
    "print(\"A raiz é %f com %d iterações.\" %(x, n))"
   ]
  }
 ],
 "metadata": {
  "kernelspec": {
   "display_name": "Python 3",
   "language": "python",
   "name": "python3"
  },
  "language_info": {
   "codemirror_mode": {
    "name": "ipython",
    "version": 3
   },
   "file_extension": ".py",
   "mimetype": "text/x-python",
   "name": "python",
   "nbconvert_exporter": "python",
   "pygments_lexer": "ipython3",
   "version": "3.7.6"
  }
 },
 "nbformat": 4,
 "nbformat_minor": 4
}
