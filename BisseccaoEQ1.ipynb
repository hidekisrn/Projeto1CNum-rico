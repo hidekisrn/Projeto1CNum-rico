{
 "cells": [
  {
   "cell_type": "code",
   "execution_count": 20,
   "metadata": {},
   "outputs": [
    {
     "name": "stdout",
     "output_type": "stream",
     "text": [
      "Iteração: 1  Raíz: 2.0  Erro: 1.0\n",
      "Iteração: 2  Raíz: 1.5  Erro: 1.625\n",
      "Iteração: 3  Raíz: 1.75  Erro: 0.515625\n",
      "Iteração: 4  Raíz: 1.875  Erro: 0.185546875\n",
      "Iteração: 5  Raíz: 1.8125  Erro: 0.178466796875\n",
      "Iteração: 6  Raíz: 1.84375  Erro: 9.1552734375e-05\n",
      "Iteração: 7  Raíz: 1.828125  Erro: 0.09003829956054688\n",
      "Iteração: 8  Raíz: 1.8359375  Erro: 0.04518747329711914\n",
      "Iteração: 9  Raíz: 1.83984375  Erro: 0.022601664066314697\n",
      "Iteração: 10  Raíz: 1.841796875  Erro: 0.011268503963947296\n",
      "Iteração: 11  Raíz: 1.8427734375  Erro: 0.005591840483248234\n",
      "Iteração: 12  Raíz: 1.84326171875  Erro: 0.002750985440798104\n",
      "Iteração: 13  Raíz: 1.843505859375  Erro: 0.0013299267884576693\n",
      "Iteração: 14  Raíz: 1.8436279296875  Erro: 0.0006192396413098322\n",
      "Iteração: 15  Raíz: 1.84368896484375  Erro: 0.00026385660771666153\n",
      "Iteração: 16  Raíz: 1.843719482421875  Erro: 8.615522531840725e-05\n",
      "Iteração: 17  Raíz: 1.8437347412109375  Erro: 2.697932355744115e-06\n",
      "Iteração: 18  Raíz: 1.8437271118164062  Erro: 4.172885202358145e-05\n",
      "Iteração: 19  Raíz: 1.8437309265136719  Erro: 1.951551121948114e-05\n",
      "Iteração: 20  Raíz: 1.8437328338623047  Erro: 8.408802278481176e-06\n",
      "Iteração: 21  Raíz: 1.843733787536621  Erro: 2.855438173021696e-06\n",
      "Iteração: 22  Raíz: 1.8437342643737793  Erro: 7.875371110799279e-08\n",
      "Raíz obtida: 1.8437342643737793 com  22 iterações\n"
     ]
    }
   ],
   "source": [
    "#definimos a função neste ponto\n",
    "def f(x):\n",
    "    return x**3 - 2*x**2 + 3*x - 5 \n",
    "\n",
    "#definimos o intervalo[a,b] e erro \"inicial\", poderia ser qualquer valor maior do que 0.\n",
    "a = 1\n",
    "b = 3\n",
    "erro = 1\n",
    "#definimos o contador para facilitar a visualização do número de iterações no programa\n",
    "i = 0\n",
    "\n",
    "#neste programa, executamos um loop que roda enquanto o erro relativo obtido não for\n",
    "#menor do que o erro relativo que buscamos.\n",
    "while erro > 1e-6:\n",
    "    #declaramos uma nova variável que guarda o valor médio dos intervalos definidos\n",
    "    c = (a+b)/2\n",
    "    #definimos também duas variáveis que guardam o valor resultante da função\n",
    "    fa = f(a) \n",
    "    fc = f(c)\n",
    "    #caso o valor da função com o valor c seja 0, o programa para de rodar, pois \n",
    "    #encontramos o número perfeito.\n",
    "    if f(c) == 0:\n",
    "        raiz = c\n",
    "        break\n",
    "    #caso a multiplicação dos valores obtidos do resultado da função usando a e b como\n",
    "    #parâmetros seja menor do que 0, b recebe o valor de c\n",
    "    elif fa*fc < 0:\n",
    "        b = c\n",
    "    #caso contrário, a recebe o valor de c\n",
    "    else:\n",
    "        a = c\n",
    "    #a raíz recebe o valor de c\n",
    "    raiz = c\n",
    "    i += 1\n",
    "    #como falamos anteriormente, ero recebe o valor absoluto do resultado da função\n",
    "    #passando como parâmetro o valor c\n",
    "    erro = abs(fc)\n",
    "    print(\"Iteração:\", i, \" Raíz:\", raiz, \" Erro:\", erro)\n",
    "\n",
    "print(\"Raíz obtida:\", raiz,\"com \", i,\"iterações\")"
   ]
  }
 ],
 "metadata": {
  "kernelspec": {
   "display_name": "Python 3",
   "language": "python",
   "name": "python3"
  },
  "language_info": {
   "codemirror_mode": {
    "name": "ipython",
    "version": 3
   },
   "file_extension": ".py",
   "mimetype": "text/x-python",
   "name": "python",
   "nbconvert_exporter": "python",
   "pygments_lexer": "ipython3",
   "version": "3.7.6"
  }
 },
 "nbformat": 4,
 "nbformat_minor": 4
}
