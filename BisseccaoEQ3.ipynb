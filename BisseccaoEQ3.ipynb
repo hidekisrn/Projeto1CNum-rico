{
 "cells": [
  {
   "cell_type": "code",
   "execution_count": 3,
   "metadata": {},
   "outputs": [
    {
     "name": "stdout",
     "output_type": "stream",
     "text": [
      "Iteração: 1  Raíz: 0.5  Erro: 0.09588510772084058\n",
      "Iteração: 2  Raíz: 0.75  Erro: 0.11367224799533315\n",
      "Iteração: 3  Raíz: 0.625  Erro: 0.007980545411907514\n",
      "Iteração: 4  Raíz: 0.5625  Erro: 0.04416053470720405\n",
      "Iteração: 5  Raíz: 0.59375  Erro: 0.018144626249473383\n",
      "Iteração: 6  Raíz: 0.609375  Erro: 0.005096013646901432\n",
      "Iteração: 7  Raíz: 0.6171875  Erro: 0.0014387335284459235\n",
      "Iteração: 8  Raíz: 0.61328125  Erro: 0.0018295182835770807\n",
      "Iteração: 9  Raíz: 0.615234375  Erro: 0.00019561254272448814\n",
      "Iteração: 10  Raíz: 0.6162109375  Erro: 0.0006215053755287414\n",
      "Iteração: 11  Raíz: 0.61572265625  Erro: 0.0002129326465702963\n",
      "Iteração: 12  Raíz: 0.615478515625  Erro: 8.65661065296841e-06\n",
      "Iteração: 13  Raíz: 0.6153564453125  Erro: 9.347882620475145e-05\n",
      "Iteração: 14  Raíz: 0.61541748046875  Erro: 4.2411322836666265e-05\n",
      "Iteração: 15  Raíz: 0.615447998046875  Erro: 1.68774098593949e-05\n",
      "Iteração: 16  Raíz: 0.6154632568359375  Erro: 4.1104130453772925e-06\n",
      "Iteração: 17  Raíz: 0.6154708862304688  Erro: 2.2730954432059747e-06\n",
      "Iteração: 18  Raíz: 0.6154670715332031  Erro: 9.186596412469328e-07\n",
      "Raíz obtida: 0.6154670715332031 com  18 iterações\n"
     ]
    }
   ],
   "source": [
    "import math\n",
    "\n",
    "def f(x):\n",
    "    return x - 0.2*math.sin(x) - 0.5\n",
    "\n",
    "#[a,b] e erro\n",
    "a = 0\n",
    "b = 1\n",
    "erro = 1\n",
    "i = 0\n",
    "\n",
    "while erro > 1e-6:\n",
    "    c = (a+b)/2\n",
    "    fa = f(a) \n",
    "    fc = f(c)\n",
    "    if f(c) == 0:\n",
    "        raiz = c\n",
    "        break\n",
    "    elif fa*fc < 0:\n",
    "        b = c\n",
    "    else:\n",
    "        a = c\n",
    "    raiz = c\n",
    "    i += 1\n",
    "    erro = abs(fc)\n",
    "    print(\"Iteração:\", i,\" Raíz:\", raiz,\" Erro:\", erro)\n",
    "\n",
    "print(\"Raíz obtida:\", raiz,\"com \", i,\"iterações\")"
   ]
  }
 ],
 "metadata": {
  "kernelspec": {
   "display_name": "Python 3",
   "language": "python",
   "name": "python3"
  },
  "language_info": {
   "codemirror_mode": {
    "name": "ipython",
    "version": 3
   },
   "file_extension": ".py",
   "mimetype": "text/x-python",
   "name": "python",
   "nbconvert_exporter": "python",
   "pygments_lexer": "ipython3",
   "version": "3.7.6"
  }
 },
 "nbformat": 4,
 "nbformat_minor": 4
}
