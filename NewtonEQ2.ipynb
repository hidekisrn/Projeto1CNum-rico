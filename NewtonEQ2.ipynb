{
 "cells": [
  {
   "cell_type": "code",
   "execution_count": 42,
   "metadata": {},
   "outputs": [
    {
     "name": "stdout",
     "output_type": "stream",
     "text": [
      "Iteração: 0  Raíz: 0.13960025848820523  Erro: 2.979600258488205\n",
      "Iteração: 1  Raíz: -2.7980852525071587  Erro: 2.937685510995364\n",
      "Iteração: 2  Raíz: -0.0009471424049252164  Erro: 2.7971381101022335\n",
      "Iteração: 3  Raíz: -1.9962194893880287  Erro: 1.9952723469831035\n",
      "Iteração: 4  Raíz: -0.9962536284912089  Erro: 0.9999658608968198\n",
      "Iteração: 5  Raíz: -1.030091743441326  Erro: 0.033838114950117015\n",
      "Iteração: 6  Raíz: -1.0298665389408834  Erro: 0.00022520450044249962\n",
      "Iteração: 7  Raíz: -1.0298665293222589  Erro: 9.618624563501044e-09\n",
      "A raiz é -1.029867 com 7 iterações.\n"
     ]
    }
   ],
   "source": [
    "#é necessário a importação da biblioteca math para o uso de cosseno e seno no programa\n",
    "import math \n",
    "\n",
    "\n",
    "def newtonraphson(fn, dfn, xk, e, iteracoesmax):\n",
    "    for i in range(iteracoesmax):\n",
    "        xknovo = xk - fn(xk)/dfn(xk)\n",
    "        erro = abs(xknovo - xk)\n",
    "        if erro < e:\n",
    "            print(\"Iteração:\", i, \" Raíz:\", xknovo, \" Erro:\", erro)\n",
    "            break\n",
    "        xk = xknovo\n",
    "        print(\"Iteração:\", i, \" Raíz:\", xknovo, \" Erro:\", erro)\n",
    "    return xknovo, i\n",
    "\n",
    "y = lambda x: x + 2*math.cos(x)\n",
    "dy = lambda x: 1 - 2*math.sin(x)\n",
    "\n",
    "x, n = newtonraphson(y, dy, -2.84, 0.000001, 100)\n",
    "print(\"A raiz é %f com %d iterações.\" %(x, n))"
   ]
  }
 ],
 "metadata": {
  "kernelspec": {
   "display_name": "Python 3",
   "language": "python",
   "name": "python3"
  },
  "language_info": {
   "codemirror_mode": {
    "name": "ipython",
    "version": 3
   },
   "file_extension": ".py",
   "mimetype": "text/x-python",
   "name": "python",
   "nbconvert_exporter": "python",
   "pygments_lexer": "ipython3",
   "version": "3.7.6"
  }
 },
 "nbformat": 4,
 "nbformat_minor": 4
}
