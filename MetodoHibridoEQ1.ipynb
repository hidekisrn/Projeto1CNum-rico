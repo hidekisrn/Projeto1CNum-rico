{
 "cells": [
  {
   "cell_type": "code",
   "execution_count": 8,
   "metadata": {},
   "outputs": [
    {
     "name": "stdout",
     "output_type": "stream",
     "text": [
      "Iteração: 0  Raíz: 2.0  Erro: 8.0\n",
      "Iteração: 1  Raíz: 1.8571428571428572  Erro: 0.1428571428571428\n",
      "Iteração: 2  Raíz: 1.8438423645320197  Erro: 0.013300492610837544\n",
      "Iteração: 3  Raíz: 1.8437342849820881  Erro: 0.00010807954993152791\n",
      "Iteração: 4  Raíz: 1.843734277898069  Erro: 7.08401914906176e-09\n",
      "A raiz é 1.843734 com 4 iterações.\n"
     ]
    }
   ],
   "source": [
    "a = 1\n",
    "b = 3\n",
    "\n",
    "def metodohibrido(fn, dfn, xk, e, iteracoesmax):\n",
    "    \n",
    "    #definimos a função dentro da função do metodo hibrido para calcular os valores de \n",
    "    #fa e fc\n",
    "    def f(x):\n",
    "        return x**3 - 2*x**2 + 3*x - 5 \n",
    "\n",
    "    for i in range(iteracoesmax):\n",
    "        fa=f(a)\n",
    "        c = (a+b)/2\n",
    "        fc=f(c)\n",
    "        xknovo = xk - fn(xk)/dfn(xk)\n",
    "        \n",
    "        #caso xk+1 tenha valor fora do intervalo, obtemos um novo valor de xk+1 através\n",
    "        #do método da bissecção\n",
    "        if xknovo > b or xknovo < a:\n",
    "            xknovo = (a+b)/2\n",
    "            \n",
    "        erro = abs(xknovo - xk)\n",
    "        if erro < e:\n",
    "            print(\"Iteração:\", i, \" Raíz:\", xknovo, \" Erro:\", erro)\n",
    "            break\n",
    "            \n",
    "        if f(c)==0:\n",
    "            xknovo = c\n",
    "            break\n",
    "            \n",
    "        xk = xknovo\n",
    "        print(\"Iteração:\", i, \" Raíz:\", xknovo, \" Erro:\", erro)\n",
    "    return xknovo, i\n",
    "\n",
    "y = lambda x: x**3 - 2*x**2 + 3*x - 5\n",
    "dy = lambda x: 3*x**2 - 4*x + 3\n",
    "\n",
    "x, n = metodohibrido(y, dy, 10, 0.000001, 100)\n",
    "print(\"A raiz é %f com %d iterações.\" %(x, n))"
   ]
  }
 ],
 "metadata": {
  "kernelspec": {
   "display_name": "Python 3",
   "language": "python",
   "name": "python3"
  },
  "language_info": {
   "codemirror_mode": {
    "name": "ipython",
    "version": 3
   },
   "file_extension": ".py",
   "mimetype": "text/x-python",
   "name": "python",
   "nbconvert_exporter": "python",
   "pygments_lexer": "ipython3",
   "version": "3.7.6"
  }
 },
 "nbformat": 4,
 "nbformat_minor": 4
}
